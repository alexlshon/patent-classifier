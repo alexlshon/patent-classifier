{
  "metadata" : {
    "config" : {
      "dependencies" : {

      },
      "exclusions" : [
      ],
      "repositories" : [
      ],
      "sparkConfig" : {
        "spark.master" : "local[*]",
        "spark.driver.memory" : "20g",
        "spark.local.dir" : "~/tem"
      }
    }
  },
  "nbformat" : 4,
  "nbformat_minor" : 0,
  "cells" : [
    {
      "cell_type" : "markdown",
      "execution_count" : 0,
      "metadata" : {
        "language" : "text"
      },
      "language" : "text",
      "source" : [
        "# Modeling for the Patent Classification Project\n",
        "\n",
        "The code for modeling the text in the claims data"
      ],
      "outputs" : [
      ]
    },
    {
      "cell_type" : "code",
      "execution_count" : 1,
      "metadata" : {
        "cell.metadata.exec_info" : {
          "startTs" : 1575878092436,
          "endTs" : 1575878096454
        },
        "language" : "scala"
      },
      "language" : "scala",
      "source" : [
        "var df = spark.read.load(\"../Projects/data/vec_df_hdfs\")"
      ],
      "outputs" : [
      ]
    },
    {
      "cell_type" : "code",
      "execution_count" : 2,
      "metadata" : {
        "cell.metadata.exec_info" : {
          "startTs" : 1575878114227,
          "endTs" : 1575878116536
        },
        "language" : "scala"
      },
      "language" : "scala",
      "source" : [
        "import org.apache.spark.ml.evaluation.MulticlassClassificationEvaluator\n",
        "import org.apache.spark.ml.classification.NaiveBayes\n",
        "\n",
        "var Array(train, test) = df.randomSplit(Array(.8, .2), 42)\n",
        "var eval = new MulticlassClassificationEvaluator()\n",
        "    .setLabelCol(\"label\")\n",
        "    .setPredictionCol(\"prediction\")\n",
        "    .setMetricName(\"accuracy\")\n",
        "\n",
        "var nb = new NaiveBayes()\n",
        "var cs = new org.apache.spark.text.similarity.CosineSimilarity()"
      ],
      "outputs" : [
      ]
    },
    {
      "cell_type" : "code",
      "execution_count" : 3,
      "metadata" : {
        "jupyter.outputs_hidden" : true,
        "cell.metadata.exec_info" : {
          "startTs" : 1575878410468,
          "endTs" : 1575878414114
        },
        "language" : "scala"
      },
      "language" : "scala",
      "source" : [
        "var nb_model = nb.fit(train)"
      ],
      "outputs" : [
        {
          "name" : "stdout",
          "text" : [
            "+--------------------+\n",
            "|            features|\n",
            "+--------------------+\n",
            "|(262144,[0,1,2,6,...|\n",
            "|(262144,[0,1,3,4,...|\n",
            "|(262144,[0,1,2,9,...|\n",
            "|(262144,[0,1,2,8,...|\n",
            "|(262144,[0,1,2,6,...|\n",
            "|(262144,[0,2,6,7,...|\n",
            "|(262144,[0,1,2,6,...|\n",
            "|(262144,[0,1,2,3,...|\n",
            "|(262144,[0,1,2,3,...|\n",
            "|(262144,[0,1,2,6,...|\n",
            "|(262144,[0,1,2,9,...|\n",
            "|(262144,[0,1,2,6,...|\n",
            "|(262144,[0,2,3,4,...|\n",
            "|(262144,[0,3,4,7,...|\n",
            "|(262144,[0,1,2,3,...|\n",
            "|(262144,[0,1,2,3,...|\n",
            "|(262144,[0,1,2,7,...|\n",
            "|(262144,[0,1,2,3,...|\n",
            "|(262144,[0,1,2,6,...|\n",
            "|(262144,[1,2,6,8,...|\n",
            "+--------------------+\n",
            "only showing top 20 rows\n",
            "\n"
          ],
          "output_type" : "stream"
        }
      ]
    },
    {
      "cell_type" : "code",
      "execution_count" : 4,
      "metadata" : {
        "language" : "scala"
      },
      "language" : "scala",
      "source" : [
        "var nb_preds = nb_model.transform(test)"
      ],
      "outputs" : [
      ]
    },
    {
      "cell_type" : "code",
      "execution_count" : 5,
      "metadata" : {
        "language" : "scala"
      },
      "language" : "scala",
      "source" : [
        "eval.evaluate(nb_preds)"
      ],
      "outputs" : [
        ".687"
      ]
    },
    {
      "cell_type" : "markdown",
      "execution_count" : 6,
      "metadata" : {
        "language" : "text"
      },
      "language" : "text",
      "source" : [
        "The accuracy score for Naive Bayes is .687"
      ],
      "outputs" : [
      ]
    },
    {
      "cell_type" : "code",
      "execution_count" : 7,
      "metadata" : {
        "language" : "scala"
      },
      "language" : "scala",
      "source" : [
        "var cs_model = cs.fit(train)"
      ],
      "outputs" : [
      ]
    },
    {
      "cell_type" : "code",
      "execution_count" : 9,
      "metadata" : {
        "language" : "scala"
      },
      "language" : "scala",
      "source" : [
        "var cs_preds = cs_model.transform(test)"
      ],
      "outputs" : [
      ]
    },
    {
      "cell_type" : "code",
      "execution_count" : 8,
      "metadata" : {
        "language" : "scala"
      },
      "language" : "scala",
      "source" : [
        "eval.evaluate(cs_preds)"
      ],
      "outputs" : [
        ".712"
      ]
    },
    {
      "cell_type" : "markdown",
      "execution_count" : 10,
      "metadata" : {
        "language" : "text"
      },
      "language" : "text",
      "source" : [
        "The accuracy score for Cosine Similarity is .712"
      ],
      "outputs" : [
      ]
    }
  ]
}
