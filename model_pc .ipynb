{
 "cells": [
  {
   "cell_type": "markdown",
   "metadata": {
    "language": "text"
   },
   "source": [
    "# Modeling for the Patent Classification Project\n",
    "\n",
    "The code for modeling the text in the claims data"
   ]
  },
  {
   "cell_type": "code",
   "execution_count": 1,
   "metadata": {
    "cell.metadata.exec_info": {
     "endTs": 1575878096454,
     "startTs": 1575878092436
    },
    "language": "scala"
   },
   "outputs": [],
   "source": [
    "var df = spark.read.load(\"../Projects/data/vec_df_hdfs\")"
   ]
  },
  {
   "cell_type": "code",
   "execution_count": 2,
   "metadata": {
    "cell.metadata.exec_info": {
     "endTs": 1575878116536,
     "startTs": 1575878114227
    },
    "language": "scala"
   },
   "outputs": [],
   "source": [
    "import org.apache.spark.ml.evaluation.MulticlassClassificationEvaluator\n",
    "import org.apache.spark.ml.classification.NaiveBayes\n",
    "\n",
    "var Array(train, test) = df.randomSplit(Array(.8, .2), 42)\n",
    "var eval = new MulticlassClassificationEvaluator()\n",
    "    .setLabelCol(\"label\")\n",
    "    .setPredictionCol(\"prediction\")\n",
    "    .setMetricName(\"accuracy\")\n",
    "\n",
    "var nb = new NaiveBayes()\n",
    "var cs = new org.apache.spark.text.similarity.CosineSimilarity()"
   ]
  },
  {
   "cell_type": "code",
   "execution_count": 3,
   "metadata": {
    "cell.metadata.exec_info": {
     "endTs": 1575878414114,
     "startTs": 1575878410468
    },
    "jupyter.outputs_hidden": true,
    "language": "scala"
   },
   "outputs": [
    {
     "name": "stdout",
     "output_type": "stream",
     "text": [
      "+--------------------+\n",
      "|            features|\n",
      "+--------------------+\n",
      "|(262144,[0,1,2,6,...|\n",
      "|(262144,[0,1,3,4,...|\n",
      "|(262144,[0,1,2,9,...|\n",
      "|(262144,[0,1,2,8,...|\n",
      "|(262144,[0,1,2,6,...|\n",
      "|(262144,[0,2,6,7,...|\n",
      "|(262144,[0,1,2,6,...|\n",
      "|(262144,[0,1,2,3,...|\n",
      "|(262144,[0,1,2,3,...|\n",
      "|(262144,[0,1,2,6,...|\n",
      "|(262144,[0,1,2,9,...|\n",
      "|(262144,[0,1,2,6,...|\n",
      "|(262144,[0,2,3,4,...|\n",
      "|(262144,[0,3,4,7,...|\n",
      "|(262144,[0,1,2,3,...|\n",
      "|(262144,[0,1,2,3,...|\n",
      "|(262144,[0,1,2,7,...|\n",
      "|(262144,[0,1,2,3,...|\n",
      "|(262144,[0,1,2,6,...|\n",
      "|(262144,[1,2,6,8,...|\n",
      "+--------------------+\n",
      "only showing top 20 rows\n",
      "\n"
     ]
    }
   ],
   "source": [
    "var nb_model = nb.fit(train)"
   ]
  },
  {
   "cell_type": "code",
   "execution_count": 4,
   "metadata": {
    "language": "scala"
   },
   "outputs": [],
   "source": [
    "var nb_preds = nb_model.transform(test)"
   ]
  },
  {
   "cell_type": "code",
   "execution_count": 5,
   "metadata": {
    "language": "scala"
   },
   "outputs": [
    {
     "name": "stdout",
     "output_type": "stream",
     "text": [
      ".687"
     ]
    }
   ],
   "source": [
    "eval.evaluate(nb_preds)"
   ]
  },
  {
   "cell_type": "markdown",
   "metadata": {
    "language": "text"
   },
   "source": [
    "The accuracy score for Naive Bayes is .687"
   ]
  },
  {
   "cell_type": "code",
   "execution_count": 7,
   "metadata": {
    "language": "scala"
   },
   "outputs": [],
   "source": [
    "var cs_model = cs.fit(train)"
   ]
  },
  {
   "cell_type": "code",
   "execution_count": 9,
   "metadata": {
    "language": "scala"
   },
   "outputs": [],
   "source": [
    "var cs_preds = cs_model.transform(test)"
   ]
  },
  {
   "cell_type": "code",
   "execution_count": 8,
   "metadata": {
    "language": "scala"
   },
   "outputs": [
    {
     "name": "stdout",
     "output_type": "stream",
     "text": [
      ".712"
     ]
    }
   ],
   "source": [
    "eval.evaluate(cs_preds)"
   ]
  },
  {
   "cell_type": "markdown",
   "metadata": {
    "language": "text"
   },
   "source": [
    "The accuracy score for Cosine Similarity is .712"
   ]
  }
 ],
 "metadata": {
  "config": {
   "dependencies": {},
   "exclusions": [],
   "repositories": [],
   "sparkConfig": {
    "spark.driver.memory": "20g",
    "spark.local.dir": "~/tem",
    "spark.master": "local[*]"
   }
  },
  "kernelspec": {
   "display_name": "Python 3",
   "language": "python",
   "name": "python3"
  },
  "language_info": {
   "codemirror_mode": {
    "name": "ipython",
    "version": 3
   },
   "file_extension": ".py",
   "mimetype": "text/x-python",
   "name": "python",
   "nbconvert_exporter": "python",
   "pygments_lexer": "ipython3",
   "version": "3.7.3"
  }
 },
 "nbformat": 4,
 "nbformat_minor": 1
}
