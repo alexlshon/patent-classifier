{
 "cells": [
  {
   "cell_type": "markdown",
   "metadata": {},
   "source": [
    "# Patent Classifier \n",
    "Patent are classified into categories based on their technical subject matter. The current system of patent classification is the Cooperative Patent Classification CPC) for the United States Patent and Trademark Office (USPTO) and the European Patent Office (EPO). The CPC is a hierarchical classification system where\n",
    "\n",
    "## Problem Statement \n",
    "Patent classification is a challenging task due to large number of possible subject matters that a patent can be classified into. This challenge is compounded by the high level of technical vocabulary and the large size of the patent document which leads to high dimensional predictor vectors. Using natural language processing and word vectoriztion, A model is to be generated that can correctly classify patents into their correct patent classification. Various classification models from Navie Bayesian, Logistical Regression, Descision Trees and various bagged and boosted models will be tried out. These models will be compared using cross validation, AIC and BIC. \n",
    "\n",
    "## Data Collection and EDA\n",
    "The USPTO has the entire corpus of American patents and patent applications available online. The challenge of the data collection would be the large size of the dataset. A single week worth of patent applications in XML format is 140 megabytes. Currently I am looking for strategies to automate the collection of data and the eventual big data analysis required. I am looking at using polynotes, basically an open source data bricks, with apache spark to handle this large set of data.   \n",
    "\n",
    "## Relevent Links \n",
    "Patent Classification by Fine-Tuning BERT Language Model\n",
    "https://arxiv.org/ftp/arxiv/papers/1906/1906.02124.pdf\n",
    "\n",
    "An Simple Example of Patent Classification \n",
    "http://cs229.stanford.edu/proj2011/ChristopherLinSpieckermann-AutomatedPatentClassification.pdf\n",
    "\n",
    "UER: An Open-Source Toolkit for Pre-training Models\n",
    "https://arxiv.org/pdf/1909.05658.pdf\n",
    "\n",
    "Neural machine translation by jointly learning to align and translate\n",
    "https://arxiv.org/pdf/1409.0473v7.pdf"
   ]
  }
 ],
 "metadata": {
  "kernelspec": {
   "display_name": "Python 3",
   "language": "python",
   "name": "python3"
  },
  "language_info": {
   "codemirror_mode": {
    "name": "ipython",
    "version": 3
   },
   "file_extension": ".py",
   "mimetype": "text/x-python",
   "name": "python",
   "nbconvert_exporter": "python",
   "pygments_lexer": "ipython3",
   "version": "3.7.3"
  }
 },
 "nbformat": 4,
 "nbformat_minor": 2
}
